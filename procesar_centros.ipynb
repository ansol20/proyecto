{
 "cells": [
  {
   "cell_type": "code",
   "execution_count": 2,
   "id": "7544fb78",
   "metadata": {
    "scrolled": true
   },
   "outputs": [],
   "source": [
    "import pandas as pd\n",
    "import math\n",
    "df = pd.read_json('coordenadas_con_centros.json')\n",
    "def calcular_distancia_euclidean(cord1,cord2):\n",
    "    return math.sqrt((cord1[0]-cord2[0])**2 +(cord1[1]-cord2[1])**2+(cord1[2]-cord2[2])**2) #Calcular la distancia entre dos puntos con coordenadas cartesianas x,y,z\n",
    "cl = len(list(df['cluster'].unique()))\n",
    "hospital_principal=[]\n",
    "for i in range(cl):\n",
    "    dsc = df.loc[df['cluster'] == i]\n",
    "    dsc = dsc[[\"id\",\"center\",\"cartesianas\"]]\n",
    "    distancia_minima=10\n",
    "    hospital_centro = 0\n",
    "    for index, row in dsc.iterrows():\n",
    "        distancia = calcular_distancia_euclidean(row[\"cartesianas\"],row[\"center\"])\n",
    "        if distancia_minima > distancia:\n",
    "            distancia_minima = distancia\n",
    "            hospital_centro=row[\"id\"]\n",
    "    hospital_principal.append(hospital_centro)\n",
    "\n",
    "hospitales_centros = []\n",
    "for p in range(0,len(df)):\n",
    "    hospitales_centros.append(hospital_principal[df[\"cluster\"][p]])    \n",
    "df['hospitales_centros'] = hospitales_centros\n",
    "del(df[\"center\"])\n",
    "df.to_json(\"coordenadas_hospitales_centroides.json\")"
   ]
  },
  {
   "cell_type": "code",
   "execution_count": null,
   "id": "9b6054de",
   "metadata": {},
   "outputs": [],
   "source": []
  }
 ],
 "metadata": {
  "kernelspec": {
   "display_name": "Python 3",
   "language": "python",
   "name": "python3"
  },
  "language_info": {
   "codemirror_mode": {
    "name": "ipython",
    "version": 3
   },
   "file_extension": ".py",
   "mimetype": "text/x-python",
   "name": "python",
   "nbconvert_exporter": "python",
   "pygments_lexer": "ipython3",
   "version": "3.8.8"
  }
 },
 "nbformat": 4,
 "nbformat_minor": 5
}
